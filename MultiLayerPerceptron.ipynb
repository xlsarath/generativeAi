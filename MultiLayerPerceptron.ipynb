{
 "cells": [
  {
   "cell_type": "markdown",
   "id": "d7ade6e8-5628-453f-bf1f-30a12f5d1c94",
   "metadata": {},
   "source": [
    "## MultiLayerPerceptron"
   ]
  },
  {
   "cell_type": "code",
   "execution_count": 9,
   "id": "b7e140cf-97b3-4a60-a42a-e97607acaa1f",
   "metadata": {},
   "outputs": [],
   "source": [
    "import torch\n",
    "import torch.nn as nn\n",
    "import torch.optim as optim\n",
    "from torch.utils.data import Dataset, DataLoader\n",
    "\n",
    "class NumberSumDataset(Dataset):\n",
    "    def __init__(self, data_range=(1, 10)):\n",
    "        self.numbers = list(range(data_range[0], data_range[1]))\n",
    "\n",
    "    def __getitem__(self, index):\n",
    "        number1 = float(self.numbers[index // len(self.numbers)])\n",
    "        number2 = float(self.numbers[index % len(self.numbers)])\n",
    "        return torch.tensor([number1, number2]), torch.tensor([number1 + number2])\n",
    "\n",
    "    def __len__(self):\n",
    "        return len(self.numbers) ** 2"
   ]
  },
  {
   "cell_type": "markdown",
   "id": "a545ad8e-ff9b-459f-8798-279b7a7603de",
   "metadata": {},
   "source": [
    "## 2 Custom Dataset: NumberSumDataset"
   ]
  },
  {
   "cell_type": "code",
   "execution_count": 10,
   "id": "a931ae1b-bf46-496b-b458-52e6d3a878ea",
   "metadata": {},
   "outputs": [],
   "source": [
    "class NumberSumDataset(Dataset):\n",
    "    \"\"\"\n",
    "    A synthetic dataset that returns every ordered pair (i, j)\n",
    "    in a specified range and labels it with their sum.\n",
    "\n",
    "    Example with range (1, 4):\n",
    "        index 0 → (1, 1) →  2\n",
    "        index 1 → (1, 2) →  3\n",
    "        index 2 → (1, 3) →  4\n",
    "        index 3 → (2, 1) →  3\n",
    "        ...\n",
    "    \"\"\"\n",
    "    def __init__(self, data_range=(1, 10)):\n",
    "        # Store all integers in the range [start, end)\n",
    "        self.numbers = list(range(*data_range))\n",
    "\n",
    "    def __len__(self):\n",
    "        # Total ordered pairs = N²\n",
    "        return len(self.numbers) ** 2\n",
    "\n",
    "    def __getitem__(self, index):\n",
    "        \"\"\"\n",
    "        Map the flat index to a 2-D index:\n",
    "            row = index // N\n",
    "            col = index %  N\n",
    "        \"\"\"\n",
    "        N = len(self.numbers)\n",
    "        number1 = float(self.numbers[index // N])   # row element\n",
    "        number2 = float(self.numbers[index %  N])   # column element\n",
    "        pair     = torch.tensor([number1, number2])\n",
    "        the_sum  = torch.tensor([number1 + number2])\n",
    "        return pair, the_sum"
   ]
  },
  {
   "cell_type": "markdown",
   "id": "406bef9b-0d88-4a93-9f72-383004f74f87",
   "metadata": {},
   "source": [
    "### Quick sanity-check:"
   ]
  },
  {
   "cell_type": "code",
   "execution_count": 11,
   "id": "5664a72d-57d1-4b4a-a68f-49725ca0db69",
   "metadata": {},
   "outputs": [
    {
     "name": "stdout",
     "output_type": "stream",
     "text": [
      "(tensor([1., 1.]), tensor([2.]))\n",
      "(tensor([1., 2.]), tensor([3.]))\n",
      "(tensor([1., 3.]), tensor([4.]))\n",
      "(tensor([1., 4.]), tensor([5.]))\n",
      "(tensor([1., 5.]), tensor([6.]))\n"
     ]
    }
   ],
   "source": [
    "toy_set = NumberSumDataset(data_range=(1, 6))\n",
    "for i in range(5):\n",
    "    print(toy_set[i])"
   ]
  },
  {
   "cell_type": "markdown",
   "id": "7023957e-d679-4c59-aabf-3a429d8f1802",
   "metadata": {},
   "source": [
    "## 3 Define an MLP Model"
   ]
  },
  {
   "cell_type": "code",
   "execution_count": 12,
   "id": "dae564df-b75d-46fa-ac31-907ff4f829e7",
   "metadata": {},
   "outputs": [],
   "source": [
    "class MLP(nn.Module):\n",
    "    \"\"\"\n",
    "    A simple 2-layer feed-forward network that learns f(x, y) = x + y.\n",
    "    \"\"\"\n",
    "    def __init__(self, input_size: int = 2, hidden_size: int = 128):\n",
    "        super().__init__()\n",
    "        self.hidden = nn.Linear(input_size, hidden_size)\n",
    "        self.out    = nn.Linear(hidden_size, 1)\n",
    "        self.act    = nn.ReLU()\n",
    "\n",
    "    def forward(self, x):\n",
    "        x = self.act(self.hidden(x))\n",
    "        return self.out(x)"
   ]
  },
  {
   "cell_type": "markdown",
   "id": "e0919642-607a-4cfc-9fb9-7e55b4684768",
   "metadata": {},
   "source": [
    "## 4 Create DataLoader, Model, Loss, Optimizer"
   ]
  },
  {
   "cell_type": "code",
   "execution_count": 13,
   "id": "81f485a9-ec86-43d2-b44f-772c32b3e1bf",
   "metadata": {},
   "outputs": [],
   "source": [
    "# Full dataset: numbers 0‒99  →  100² = 10 000 samples\n",
    "dataset    = NumberSumDataset(data_range=(0, 100))\n",
    "dataloader = DataLoader(dataset, batch_size=100, shuffle=True)\n",
    "\n",
    "model        = MLP(input_size=2)\n",
    "criterion    = nn.MSELoss()\n",
    "optimizer    = optim.Adam(model.parameters(), lr=1e-3)"
   ]
  },
  {
   "cell_type": "markdown",
   "id": "f8237bda-7bf9-434d-b973-651cc544f6d4",
   "metadata": {},
   "source": [
    "## 5 Training Loop"
   ]
  },
  {
   "cell_type": "code",
   "execution_count": 14,
   "id": "3a47d50d-40f7-4763-abd3-654e2a2cace9",
   "metadata": {},
   "outputs": [
    {
     "name": "stdout",
     "output_type": "stream",
     "text": [
      "Epoch  0 — total batch loss: 240244.33343\n",
      "Epoch  1 — total batch loss: 2406.13129\n",
      "Epoch  2 — total batch loss: 746.29922\n",
      "Epoch  3 — total batch loss: 67.56002\n",
      "Epoch  4 — total batch loss: 1.69477\n",
      "Epoch  5 — total batch loss: 1.12241\n",
      "Epoch  6 — total batch loss: 0.89274\n",
      "Epoch  7 — total batch loss: 0.66531\n",
      "Epoch  8 — total batch loss: 0.55421\n",
      "Epoch  9 — total batch loss: 0.49038\n"
     ]
    }
   ],
   "source": [
    "num_epochs = 10\n",
    "for epoch in range(num_epochs):\n",
    "    running_loss = 0.0\n",
    "\n",
    "    for pairs, targets in dataloader:\n",
    "        preds = model(pairs)              # forward pass\n",
    "        loss  = criterion(preds, targets) # compute loss\n",
    "\n",
    "        loss.backward()                   # back-prop\n",
    "        optimizer.step()                  # update weights\n",
    "        optimizer.zero_grad()             # reset gradients\n",
    "\n",
    "        running_loss += loss.item()\n",
    "\n",
    "    print(f\"Epoch {epoch:2d} — total batch loss: {running_loss:.5f}\")"
   ]
  },
  {
   "cell_type": "markdown",
   "id": "0057ea16-5909-46d3-a6c7-db3ec390056a",
   "metadata": {},
   "source": [
    "## 6 Quick Test"
   ]
  },
  {
   "cell_type": "code",
   "execution_count": 15,
   "id": "7fcce9bd-4682-4c41-8c4d-bec4c5f2c211",
   "metadata": {},
   "outputs": [
    {
     "name": "stdout",
     "output_type": "stream",
     "text": [
      "Model prediction for 3 + 7 ≈ 10.0564\n"
     ]
    }
   ],
   "source": [
    "with torch.no_grad():\n",
    "    test_pair = torch.tensor([3.0, 7.0])\n",
    "    prediction = model(test_pair)\n",
    "    print(f\"Model prediction for 3 + 7 ≈ {prediction.item():.4f}\")"
   ]
  },
  {
   "cell_type": "markdown",
   "id": "a84a7a5e-e761-453c-a73e-af5960cd5ed8",
   "metadata": {},
   "source": [
    "# Detailed Walk-Through of a Two-Layer MLP for Addition"
   ]
  },
  {
   "cell_type": "markdown",
   "id": "b73c938f-a8ca-4c04-aa1a-8eca59a3e11f",
   "metadata": {},
   "source": [
    "## 1  Network Architecture and Shapes\n",
    "\n",
    "| Layer | Weight matrix shape | Bias shape | Purpose |\n",
    "|-------|--------------------|------------|---------|\n",
    "| **Hidden (L₁)** | 128 × 2 | 128 | Project 2-D input → 128 hidden neurons |\n",
    "| **ReLU** | — | — | Non-linearity (zeroes negatives) |\n",
    "| **Output (L₂)** | 1 × 128 | 1 | Reduce 128 features → single scalar |\n",
    "\n",
    "> *Only two trainable `Linear` layers ⇒ a **1-hidden-layer network**.<br>\n",
    "> In this example we’ll shrink the hidden layer to **3 neurons** so the math is easy to see.*"
   ]
  },
  {
   "cell_type": "markdown",
   "id": "bde377bd-1345-4d11-85e4-83ed12329a26",
   "metadata": {},
   "source": [
    "## 2  Forward Pass (single sample \\([3,7]\\))\n",
    "\n",
    "Assume tiny, fixed parameters:\n",
    "W₁ = [[ 0.10, 0.20],\n",
    "[-0.40, 0.30],\n",
    "[ 0.05, -0.10]]\n",
    "b₁ = [0.01, 0.00, -0.02]\n",
    "\n",
    "W₂ = [[ 0.60, -0.20, 0.40]]\n",
    "b₂ = [0.03]\n",
    "\n",
    "\n",
    "\n",
    "### 1. Hidden Linear Transform\n",
    "\n",
    "$$\n",
    "\\begin{aligned}\n",
    "\\mathbf{z}_1 &= W_1 \\cdot \\mathbf{x} + \\mathbf{b}_1 \\\\\n",
    "&= \\begin{bmatrix}\n",
    "0.10 \\cdot 3 + 0.20 \\cdot 7 + 0.01 \\\\\n",
    "-0.40 \\cdot 3 + 0.30 \\cdot 7 + 0.00 \\\\\n",
    "0.05 \\cdot 3 + (-0.10) \\cdot 7 - 0.02\n",
    "\\end{bmatrix} \\\\\n",
    "&= \\begin{bmatrix}\n",
    "1.81 \\\\\n",
    "0.90 \\\\\n",
    "-0.47\n",
    "\\end{bmatrix}\n",
    "\\end{aligned}\n",
    "$$\n",
    "\n",
    "### 2. ReLU Activation\n",
    "\n",
    "$$\n",
    "\\mathbf{h} = \\text{ReLU}(\\mathbf{z}_1) =\n",
    "\\begin{bmatrix}\n",
    "1.81 \\\\\n",
    "0.90 \\\\\n",
    "0\n",
    "\\end{bmatrix}\n",
    "$$\n",
    "\n",
    "### 3. Output Layer\n",
    "\n",
    "$$\n",
    "\\hat{y} = W_2 \\cdot \\mathbf{h} + b_2 = 0.6 \\cdot 1.81 + (-0.2) \\cdot 0.90 + 0.4 \\cdot 0 + 0.03 = 1.116\n",
    "$$\n",
    "\n",
    "The untrained network predicts:\n",
    "\n",
    "$$\n",
    "\\hat{y} \\approx 1.12 \\quad \\text{(instead of the correct sum } y = 10\\text{)}\n",
    "$$\n",
    "\n",
    "\n"
   ]
  },
  {
   "cell_type": "markdown",
   "id": "32a23c49-62fc-4dc1-9df8-5ecb9fcb326c",
   "metadata": {},
   "source": []
  },
  {
   "cell_type": "markdown",
   "id": "494bd87f-b92c-48ba-9efc-f4bc1cdb366a",
   "metadata": {},
   "source": [
    "## 3. Loss and Backpropagation\n",
    "\n",
    "---\n",
    "\n",
    "### 3.1 Mean Squared Error (MSE)\n",
    "\n",
    "The **Mean Squared Error (MSE)** is the most commonly used loss function for regression problems. It computes the average of the squares of the differences between predicted and actual values.\n",
    "\n",
    "For example, suppose your model predicts:\n",
    "\n",
    "$$\n",
    "\\hat{y} = 1.116, \\quad y = 10\n",
    "$$\n",
    "\n",
    "Then the loss is:\n",
    "\n",
    "$$\n",
    "L = (\\hat{y} - y)^2 = (1.116 - 10)^2 \\approx 79.3\n",
    "$$\n",
    "\n",
    "---\n",
    "\n",
    "### 3.1.1 Understanding Loss Functions: MSE and Alternatives\n",
    "\n",
    "Loss functions quantify how well (or badly) your model is performing. They form the basis for updating weights using gradients.\n",
    "\n",
    "#### 🔹 Mean Squared Error (MSE)\n",
    "\n",
    "Used for **regression tasks**:\n",
    "\n",
    "$$\n",
    "L = \\frac{1}{n} \\sum_{i=1}^{n} (\\hat{y}_i - y_i)^2\n",
    "$$\n",
    "\n",
    "- Sensitive to large errors\n",
    "- Squared term amplifies outliers\n",
    "- Used when precision is key\n",
    "\n",
    "#### 🔹 Mean Absolute Error (MAE)\n",
    "\n",
    "$$\n",
    "L = \\frac{1}{n} \\sum_{i=1}^n |\\hat{y}_i - y_i|\n",
    "$$\n",
    "\n",
    "- Less sensitive to outliers\n",
    "- Does not penalize large deviations as harshly as MSE\n",
    "\n",
    "#### 🔹 Cross-Entropy Loss\n",
    "\n",
    "- Used for **classification**\n",
    "- Not suitable for regression tasks like addition\n",
    "\n",
    "#### 🔹 Huber Loss\n",
    "\n",
    "A hybrid between MSE and MAE — it uses MSE when the error is small and MAE when it's large.\n",
    "\n",
    "---\n",
    "\n",
    "### 3.2 Gradient Flow\n",
    "\n",
    "Once the loss is computed, we use **backpropagation** to compute the gradients — these indicate how each weight and bias should change to reduce the loss.\n",
    "\n",
    "#### 1️⃣ Gradient at Output:\n",
    "\n",
    "$$\n",
    "\\frac{\\partial L}{\\partial \\hat{y}} = 2(\\hat{y} - y) = -17.77\n",
    "$$\n",
    "\n",
    "This is the derivative of the loss function with respect to the model’s prediction.\n",
    "\n",
    "#### 2️⃣ Gradient w.r.t. Output Layer (W₂ and b₂):\n",
    "\n",
    "$$\n",
    "\\frac{\\partial L}{\\partial W_2} = \\frac{\\partial L}{\\partial \\hat{y}} \\cdot \\mathbf{h}^\\top\n",
    "$$\n",
    "\n",
    "- \\( \\mathbf{h} \\): hidden layer activation\n",
    "- Shape: [1 × hidden_size]\n",
    "\n",
    "#### 3️⃣ Gradient w.r.t Hidden Activations:\n",
    "\n",
    "$$\n",
    "\\frac{\\partial L}{\\partial \\mathbf{h}} = \\frac{\\partial L}{\\partial \\hat{y}} \\cdot W_2^\\top\n",
    "$$\n",
    "\n",
    "This propagates error back to the hidden layer from the output layer.\n",
    "\n",
    "#### 4️⃣ ReLU Derivative (Activation Backprop):\n",
    "\n",
    "The ReLU function blocks gradients for negative inputs:\n",
    "\n",
    "$$\n",
    "\\frac{\\partial L}{\\partial \\mathbf{z}_1} = \\frac{\\partial L}{\\partial \\mathbf{h}} \\cdot \\text{ReLU}'(\\mathbf{z}_1)\n",
    "$$\n",
    "\n",
    "- Only positive neurons in \\( \\mathbf{z}_1 \\) pass gradient through\n",
    "- Others get zero\n",
    "\n",
    "#### 5️⃣ Gradient w.r.t Hidden Layer Weights (W₁ and b₁):\n",
    "\n",
    "$$\n",
    "\\frac{\\partial L}{\\partial W_1} = \\frac{\\partial L}{\\partial \\mathbf{z}_1} \\cdot \\mathbf{x}^\\top\n",
    "$$\n",
    "\n",
    "- \\( \\mathbf{x} \\): input vector\n",
    "\n",
    "---\n",
    "\n",
    "### 3.3 Parameter Update\n",
    "\n",
    "After calculating gradients, the **optimizer** updates each parameter to reduce the loss.\n",
    "\n",
    "#### Formula:\n",
    "\n",
    "$$\n",
    "\\theta \\leftarrow \\theta - \\eta \\cdot \\frac{\\partial L}{\\partial \\theta}\n",
    "$$\n",
    "\n",
    "- \\( \\theta \\): weight or bias\n",
    "- \\( \\eta \\): learning rate (controls step size)\n",
    "\n",
    "---\n",
    "\n",
    "### 3.3.1 Optimizers\n",
    "\n",
    "#### 🔹 SGD (Stochastic Gradient Descent)\n",
    "\n",
    "$$\n",
    "\\theta = \\theta - \\eta \\cdot \\frac{\\partial L}{\\partial \\theta}\n",
    "$$\n",
    "\n",
    "- Simple and effective\n",
    "- May be slow to converge\n",
    "\n",
    "#### 🔹 Adam (Adaptive Moment Estimation)\n",
    "\n",
    "- **Used in your MLP model**\n",
    "- Combines momentum + adaptive learning rates\n",
    "- Faster and more robust for most tasks\n",
    "\n",
    "**PyTorch handles this via**:\n",
    "```python\n",
    "optimizer = optim.Adam(model.parameters(), lr=0.001)\n"
   ]
  },
  {
   "cell_type": "markdown",
   "id": "81e645e0-2d5a-4d05-8f48-03f3321406bd",
   "metadata": {},
   "source": [
    "## 4  Why “128” Hidden Neurons?\n",
    "\n",
    "* **Not** 128 layers—just **128 neurons** *in one layer*.  \n",
    "* More neurons ⇒ higher capacity to learn complex functions.  \n",
    "* Output stays scalar because the last layer has `out_features = 1`.  \n",
    "* For simple addition, even 3–10 neurons can reach zero error; 128 is comfortable over-capacity."
   ]
  },
  {
   "cell_type": "markdown",
   "id": "14a518b9-42dc-4e3e-b569-2135a55ef91e",
   "metadata": {},
   "source": [
    "## 5  End-to-End Summary\n",
    "\n",
    "Input (2) → Linear (2, 128) → ReLU → Linear (128, 1) → Output (1)\n",
    "\n",
    "* **Layers = sets of weights** (2 trainable layers here).  \n",
    "* **Neurons per layer = width** (128 hidden).  \n",
    "* `loss.backward()` auto-computes all gradients; `optimizer.step()` updates them.  \n",
    "* After training, the network converges to \\(\\hat y \\approx x_1 + x_2\\)."
   ]
  },
  {
   "cell_type": "code",
   "execution_count": 25,
   "id": "ee664ebe-a85b-4996-9307-6e0bae25b6b5",
   "metadata": {},
   "outputs": [
    {
     "name": "stdout",
     "output_type": "stream",
     "text": [
      "Prediction for 3 + 7  →  0.8759999871253967\n"
     ]
    }
   ],
   "source": [
    "import torch, torch.nn as nn\n",
    "\n",
    "demo_net = nn.Sequential(\n",
    "    nn.Linear(2, 3, bias=True),\n",
    "    nn.ReLU(),\n",
    "    nn.Linear(3, 1, bias=True)\n",
    ")\n",
    "\n",
    "with torch.no_grad():\n",
    "    demo_net[0].weight[:] = torch.tensor([[0.10, 0.20],\n",
    "                                          [-0.40, 0.30],\n",
    "                                          [0.05, -0.10]])\n",
    "    demo_net[0].bias[:]   = torch.tensor([0.01, 0.00, -0.02])\n",
    "    demo_net[2].weight[:] = torch.tensor([[0.60, -0.20, 0.40]])\n",
    "    demo_net[2].bias[:]   = torch.tensor([0.03])\n",
    "\n",
    "x = torch.tensor([[3., 7.]])\n",
    "print(\"Prediction for 3 + 7  → \", demo_net(x).item())"
   ]
  },
  {
   "cell_type": "code",
   "execution_count": 23,
   "id": "721afa01-8d0c-4342-a4d1-12c191d9ed97",
   "metadata": {},
   "outputs": [
    {
     "data": {
      "image/png": "[encoded data removed]",
      "text/plain": [
       "<Figure size 600x400 with 1 Axes>"
      ]
     },
     "metadata": {},
     "output_type": "display_data"
    }
   ],
   "source": [
    "import matplotlib.pyplot as plt\n",
    "\n",
    "# ---------- quick visual: 2 → 3 → 1 ----------\n",
    "layer_sizes = [2, 3, 1]\n",
    "layer_x = [0, 1, 2]\n",
    "coords = []\n",
    "\n",
    "for lx, n in zip(layer_x, layer_sizes):\n",
    "    ys = [i - (n - 1) / 2 for i in range(n)]\n",
    "    coords.append([(lx, y) for y in ys])\n",
    "\n",
    "fig, ax = plt.subplots(figsize=(6, 4))\n",
    "ax.set_aspect('equal')\n",
    "ax.axis('off')\n",
    "\n",
    "# nodes\n",
    "for layer in coords:\n",
    "    for (x, y) in layer:\n",
    "        ax.add_patch(plt.Circle((x, y), 0.08, fill=False, lw=1.5))\n",
    "\n",
    "# edges\n",
    "for i in range(len(coords) - 1):\n",
    "    for (x1, y1) in coords[i]:\n",
    "        for (x2, y2) in coords[i + 1]:\n",
    "            ax.plot([x1, x2], [y1, y2], 'k-', lw=0.6)\n",
    "\n",
    "# labels\n",
    "ax.text(-0.1, 0.5, 'Input\\n(2)', ha='right', va='center', fontsize=10, transform=ax.transAxes)\n",
    "ax.text(0.45, 0.5, 'Hidden\\n(3)', ha='center', va='center', fontsize=10, transform=ax.transAxes)\n",
    "ax.text(1.05, 0.5, 'Output\\n(1)', ha='left', va='center', fontsize=10, transform=ax.transAxes)\n",
    "\n",
    "plt.title(\"MLP Architecture: 2 → 3 → 1\", pad=20)\n",
    "plt.show()"
   ]
  },
  {
   "cell_type": "code",
   "execution_count": null,
   "id": "6d87bf2e-392f-48a7-842c-4175193256a9",
   "metadata": {},
   "outputs": [],
   "source": []
  }
 ],
 "metadata": {
  "kernelspec": {
   "display_name": "Python 3 (ipykernel)",
   "language": "python",
   "name": "python3"
  },
  "language_info": {
   "codemirror_mode": {
    "name": "ipython",
    "version": 3
   },
   "file_extension": ".py",
   "mimetype": "text/x-python",
   "name": "python",
   "nbconvert_exporter": "python",
   "pygments_lexer": "ipython3",
   "version": "3.9.0"
  }
 },
 "nbformat": 4,
 "nbformat_minor": 5
}
